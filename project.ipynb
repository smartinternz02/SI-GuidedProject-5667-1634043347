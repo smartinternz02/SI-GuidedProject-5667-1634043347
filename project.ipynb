{
 "cells": [
  {
   "cell_type": "code",
   "execution_count": 1,
   "id": "7c560ba6",
   "metadata": {},
   "outputs": [],
   "source": [
    "import keras\n",
    "from keras.preprocessing.image import ImageDataGenerator"
   ]
  },
  {
   "cell_type": "code",
   "execution_count": 3,
   "id": "8c8f5b8e",
   "metadata": {},
   "outputs": [],
   "source": [
    "train_datagen=ImageDataGenerator(rescale=1./255,shear_range=0.2,\n",
    "        rotation_range=180,zoom_range=0.2,horizontal_flip=True)\n",
    "\n",
    "test_datagen=ImageDataGenerator(rescale=1./255)"
   ]
  },
  {
   "cell_type": "code",
   "execution_count": 4,
   "id": "d4f99105",
   "metadata": {},
   "outputs": [
    {
     "name": "stdout",
     "output_type": "stream",
     "text": [
      "Found 993 images belonging to 3 classes.\n"
     ]
    }
   ],
   "source": [
    "x_train=train_datagen.flow_from_directory(\n",
    "    directory= r\"C:\\Users\\nagi reddy\\Desktop\\dataset\\train_set\",\n",
    "    target_size=(64,64),\n",
    "    batch_size=32,\n",
    "    class_mode='categorical')"
   ]
  },
  {
   "cell_type": "code",
   "execution_count": 5,
   "id": "16f04261",
   "metadata": {},
   "outputs": [
    {
     "name": "stdout",
     "output_type": "stream",
     "text": [
      "Found 353 images belonging to 3 classes.\n"
     ]
    }
   ],
   "source": [
    "x_test=test_datagen.flow_from_directory(\n",
    "    directory= r\"C:\\Users\\nagi reddy\\Desktop\\dataset\\test_set\",\n",
    "    target_size=(64,64),\n",
    "    batch_size=32,\n",
    "    class_mode='categorical')"
   ]
  },
  {
   "cell_type": "code",
   "execution_count": 6,
   "id": "4014c75e",
   "metadata": {},
   "outputs": [],
   "source": [
    "from keras.models import Sequential\n",
    "#To add layers import Dense\n",
    "from keras.layers import Dense\n",
    "# to create a convolution kernel import Convolution2D\n",
    "from keras.layers import Convolution2D\n",
    "# Adding Max pooling Layer\n",
    "from keras.layers import MaxPooling2D\n",
    "# Adding Flatten Layer\n",
    "from keras.layers import Flatten"
   ]
  },
  {
   "cell_type": "code",
   "execution_count": 7,
   "id": "f67929eb",
   "metadata": {},
   "outputs": [],
   "source": [
    "model=Sequential()"
   ]
  },
  {
   "cell_type": "code",
   "execution_count": 8,
   "id": "d67dd826",
   "metadata": {},
   "outputs": [],
   "source": [
    "model.add(Convolution2D(32,(3,3),input_shape=(64,64,3),\n",
    "                        activation='relu'))"
   ]
  },
  {
   "cell_type": "code",
   "execution_count": 9,
   "id": "b4ea45bb",
   "metadata": {},
   "outputs": [],
   "source": [
    "model.add(MaxPooling2D(pool_size=(2,2)))"
   ]
  },
  {
   "cell_type": "code",
   "execution_count": 10,
   "id": "fa0c7537",
   "metadata": {},
   "outputs": [],
   "source": [
    "# Adding Flatten Layer\n",
    "model.add(Flatten()) \n"
   ]
  },
  {
   "cell_type": "code",
   "execution_count": 11,
   "id": "1c3b17c2",
   "metadata": {},
   "outputs": [],
   "source": [
    "model.add(keras.layers.Dense(kernel_initializer = \"random_uniform\",activation =\"relu\",units = 300))"
   ]
  },
  {
   "cell_type": "code",
   "execution_count": 12,
   "id": "546e399f",
   "metadata": {},
   "outputs": [],
   "source": [
    "model.add(keras.layers.Dense(kernel_initializer = \"random_uniform\",activation = \"sigmoid\",units = 100))"
   ]
  },
  {
   "cell_type": "code",
   "execution_count": 13,
   "id": "0a125fb2",
   "metadata": {},
   "outputs": [],
   "source": [
    "model.add(keras.layers.Dense(kernel_initializer = \"random_uniform\",activation = \"sigmoid\",units = 60))"
   ]
  },
  {
   "cell_type": "code",
   "execution_count": 14,
   "id": "6e9d3a1a",
   "metadata": {},
   "outputs": [],
   "source": [
    "model.add(keras.layers.Dense(kernel_initializer = \"random_uniform\",activation = \"softmax\",units = 3))"
   ]
  },
  {
   "cell_type": "code",
   "execution_count": 15,
   "id": "8807d508",
   "metadata": {},
   "outputs": [],
   "source": [
    "model.compile(loss='categorical_crossentropy',\n",
    "              optimizer='adam',metrics=[\"accuracy\"])"
   ]
  },
  {
   "cell_type": "code",
   "execution_count": 16,
   "id": "71f53636",
   "metadata": {},
   "outputs": [
    {
     "name": "stderr",
     "output_type": "stream",
     "text": [
      "C:\\Users\\nagi reddy\\anaconda3\\lib\\site-packages\\keras\\engine\\training.py:1972: UserWarning: `Model.fit_generator` is deprecated and will be removed in a future version. Please use `Model.fit`, which supports generators.\n",
      "  warnings.warn('`Model.fit_generator` is deprecated and '\n"
     ]
    },
    {
     "name": "stdout",
     "output_type": "stream",
     "text": [
      "Epoch 1/15\n",
      "31/31 [==============================] - 8s 229ms/step - loss: 1.0895 - accuracy: 0.3777 - val_loss: 1.0112 - val_accuracy: 0.4517\n",
      "Epoch 2/15\n",
      "31/31 [==============================] - 7s 229ms/step - loss: 1.0842 - accuracy: 0.3975 - val_loss: 1.0359 - val_accuracy: 0.4545\n",
      "Epoch 3/15\n",
      "31/31 [==============================] - 7s 217ms/step - loss: 1.0831 - accuracy: 0.3985 - val_loss: 1.0475 - val_accuracy: 0.4545\n",
      "Epoch 4/15\n",
      "31/31 [==============================] - 7s 222ms/step - loss: 1.0870 - accuracy: 0.3580 - val_loss: 1.0234 - val_accuracy: 0.4517\n",
      "Epoch 5/15\n",
      "31/31 [==============================] - 7s 220ms/step - loss: 1.0849 - accuracy: 0.3965 - val_loss: 1.0330 - val_accuracy: 0.4517\n",
      "Epoch 6/15\n",
      "31/31 [==============================] - 7s 232ms/step - loss: 1.0820 - accuracy: 0.3923 - val_loss: 1.0214 - val_accuracy: 0.4375\n",
      "Epoch 7/15\n",
      "31/31 [==============================] - 7s 224ms/step - loss: 1.0771 - accuracy: 0.3944 - val_loss: 1.0372 - val_accuracy: 0.4517\n",
      "Epoch 8/15\n",
      "31/31 [==============================] - 7s 222ms/step - loss: 1.0787 - accuracy: 0.4069 - val_loss: 1.0404 - val_accuracy: 0.4545\n",
      "Epoch 9/15\n",
      "31/31 [==============================] - 7s 224ms/step - loss: 1.0857 - accuracy: 0.3902 - val_loss: 1.0557 - val_accuracy: 0.4545\n",
      "Epoch 10/15\n",
      "31/31 [==============================] - 8s 246ms/step - loss: 1.0868 - accuracy: 0.3673 - val_loss: 1.0338 - val_accuracy: 0.4545\n",
      "Epoch 11/15\n",
      "31/31 [==============================] - 8s 249ms/step - loss: 1.0867 - accuracy: 0.3704 - val_loss: 1.0312 - val_accuracy: 0.4545\n",
      "Epoch 12/15\n",
      "31/31 [==============================] - 7s 238ms/step - loss: 1.0842 - accuracy: 0.3985 - val_loss: 1.0292 - val_accuracy: 0.4545\n",
      "Epoch 13/15\n",
      "31/31 [==============================] - 7s 232ms/step - loss: 1.0830 - accuracy: 0.3944 - val_loss: 1.0289 - val_accuracy: 0.4261\n",
      "Epoch 14/15\n",
      "31/31 [==============================] - 7s 239ms/step - loss: 1.0853 - accuracy: 0.3673 - val_loss: 1.0295 - val_accuracy: 0.4517\n",
      "Epoch 15/15\n",
      "31/31 [==============================] - 7s 213ms/step - loss: 1.0846 - accuracy: 0.3965 - val_loss: 1.0250 - val_accuracy: 0.4545\n"
     ]
    },
    {
     "data": {
      "text/plain": [
       "<keras.callbacks.History at 0x18e5925fc10>"
      ]
     },
     "execution_count": 16,
     "metadata": {},
     "output_type": "execute_result"
    }
   ],
   "source": [
    "model.fit_generator(x_train,steps_per_epoch=31,\n",
    "                    epochs=15,\n",
    "                    validation_data=x_test,\n",
    "                    validation_steps=11)"
   ]
  },
  {
   "cell_type": "code",
   "execution_count": 17,
   "id": "d354998a",
   "metadata": {},
   "outputs": [],
   "source": [
    "model.save('alert.h5')"
   ]
  },
  {
   "cell_type": "code",
   "execution_count": 17,
   "id": "fb8bf969",
   "metadata": {},
   "outputs": [
    {
     "name": "stdout",
     "output_type": "stream",
     "text": [
      "{'Human': 0, 'domestic': 1, 'wild': 2}\n"
     ]
    }
   ],
   "source": [
    "print(x_train.class_indices)"
   ]
  },
  {
   "cell_type": "code",
   "execution_count": null,
   "id": "69cc6e26",
   "metadata": {},
   "outputs": [],
   "source": []
  }
 ],
 "metadata": {
  "interpreter": {
   "hash": "300fc63397aaa7997d13fd9376905de23a72a10fee773c8c8d3f31f1ba17ed72"
  },
  "kernelspec": {
   "display_name": "Python 3.8.8 64-bit ('base': conda)",
   "name": "python3"
  },
  "language_info": {
   "codemirror_mode": {
    "name": "ipython",
    "version": 3
   },
   "file_extension": ".py",
   "mimetype": "text/x-python",
   "name": "python",
   "nbconvert_exporter": "python",
   "pygments_lexer": "ipython3",
   "version": "3.8.8"
  }
 },
 "nbformat": 4,
 "nbformat_minor": 5
}
